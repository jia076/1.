{
 "cells": [
  {
   "cell_type": "code",
   "execution_count": 1,
   "metadata": {},
   "outputs": [
    {
     "name": "stdout",
     "output_type": "stream",
     "text": [
      "['python', 'js', 'SQL']\n"
     ]
    }
   ],
   "source": [
    "#一、list 串列\n",
    "my_list1 = []\n",
    "my_list2 = list()\n",
    "my_list2 = ['python','js','SQL']\n",
    "print(my_list2)"
   ]
  },
  {
   "cell_type": "code",
   "execution_count": 3,
   "metadata": {},
   "outputs": [
    {
     "name": "stdout",
     "output_type": "stream",
     "text": [
      "python\n",
      "JS\n",
      "SQL\n",
      "SQL\n",
      "JS\n",
      "java\n",
      "4\n",
      "['python', 'JS', 'SQL', 'java']\n",
      "['c#', 'python', 'JS', 'SQL', 'java']\n",
      "['c#', 'python', 'JS', 'SQL']\n",
      "['python', 'JS', 'SQL']\n",
      "[1, 2, 3]\n",
      "[1, 3, 5, 7, 9]\n",
      "[1, 2, 3, 4, 5, 6, 7]\n",
      "1\n",
      "7\n",
      "0\n",
      "1\n",
      "[7, 6, 5, 4, 3, 2, 1]\n",
      "[1, 2, 3, 4, 5, 6, 7]\n"
     ]
    }
   ],
   "source": [
    "#二、串列基礎\n",
    "#1.\n",
    "my_list = []\n",
    "my_list1 = list()\n",
    "my_list2 = [\"python\",\"JS\",\"SQL\"]\n",
    "print(my_list2[0])\n",
    "print(my_list2[1])\n",
    "print(my_list2[2])\n",
    "print(my_list2[-1])\n",
    "print(my_list2[-2])\n",
    "my_list2.append(\"java\")#加入一個java\n",
    "print(my_list2[-1])\n",
    "print(len(my_list2))#總共有幾個值\n",
    "print(my_list2)\n",
    "my_list2.insert(0,\"c#\")#加入第一個值為C#\n",
    "print(my_list2)\n",
    "del my_list2[-1]#刪掉最後一個值\n",
    "print(my_list2)\n",
    "my_list2.remove(\"c#\")#刪掉C#\n",
    "print(my_list2)\n",
    "#2.\n",
    "a = [1,2,3,4,5,6,7,8,9]\n",
    "b = a[0:3] #範圍取值\n",
    "print(b)\n",
    "c = a[0:9:2] #間隔取值\n",
    "print(c)\n",
    "del a[7:9]\n",
    "print(a)\n",
    "print(min(a)) #取最小值\n",
    "print(max(a)) #取最大值\n",
    "print(a.index(1)) #1出現的索引值\n",
    "print(a.count(1)) #1出現的次數\n",
    "a.reverse() #a的反轉\n",
    "print(a)\n",
    "a.sort() #a的串列排序\n",
    "print(a)"
   ]
  },
  {
   "cell_type": "code",
   "execution_count": 4,
   "metadata": {},
   "outputs": [
    {
     "name": "stdout",
     "output_type": "stream",
     "text": [
      "True\n",
      "False\n",
      "['python', 'js', 'go', 'python', 'js', 'go', 'python', 'js', 'go', 'python', 'js', 'go', 'python', 'js', 'go']\n"
     ]
    }
   ],
   "source": [
    "#三、\n",
    "a = ['python','js','go']\n",
    "print('python' in a)# 'python'是否存在於a\n",
    "print('java' in a) # 'java'是否存在於a\n",
    "print(a*5)#"
   ]
  },
  {
   "cell_type": "code",
   "execution_count": 5,
   "metadata": {},
   "outputs": [
    {
     "name": "stdout",
     "output_type": "stream",
     "text": [
      "[1, 2, 3, 4, 5, 6, 7]\n",
      "(1, 2, 3, 4, 5, 6, 7)\n",
      "1\n"
     ]
    }
   ],
   "source": [
    "#四、\n",
    "a = [1,2,3,4,5,6,7]\n",
    "a_tuple = tuple(a)\n",
    "print(a)\n",
    "print(a_tuple)\n",
    "print(a_tuple[0])"
   ]
  },
  {
   "cell_type": "code",
   "execution_count": 6,
   "metadata": {},
   "outputs": [
    {
     "name": "stdout",
     "output_type": "stream",
     "text": [
      "('python', 'js', 'go')\n",
      "python\n"
     ]
    }
   ],
   "source": [
    "#五、\n",
    "a_list =['python','js','go']\n",
    "a_tuple = tuple(a_list)\n",
    "print(a_tuple)\n",
    "print(a_tuple[0])\n"
   ]
  },
  {
   "cell_type": "code",
   "execution_count": 7,
   "metadata": {},
   "outputs": [
    {
     "name": "stdout",
     "output_type": "stream",
     "text": [
      "tony\n",
      "20\n",
      "python\n",
      "dict_keys(['name', 'age', 'sex', 'height', 'weight'])\n",
      "dict_values(['tony', 20, 'M', 170, 55])\n",
      "dict_items([('name', 'tony'), ('age', 20), ('sex', 'M'), ('height', 170), ('weight', 55)])\n",
      "{'name': 'tony', 'age': 20, 'sex': 'M', 'height': 170, 'wieght': 55}\n"
     ]
    }
   ],
   "source": [
    "#六、\n",
    "#dictionary(簡稱dict)，是含有key(鍵值)的串列(list)\n",
    "person_dict = {'name':'tony','age':20,'sex':'M','height':170,'weight':55}\n",
    "print(person_dict['name'])\n",
    "print(person_dict['age'])\n",
    "a_list= ['python','java','vb']\n",
    "a_dict= {0:'python',1:'java',2:'vb'}\n",
    "print(a_dict[0])\n",
    "print(person_dict.keys())\n",
    "print(person_dict.values())\n",
    "print(person_dict.items())\n",
    "a=['name','age','sex','height','wieght']\n",
    "b=['tony',20,'M',170,55]\n",
    "ab_dict = dict(zip(a,b)) #兩個list組合而成(dictionaty)\n",
    "print(ab_dict)"
   ]
  },
  {
   "cell_type": "code",
   "execution_count": null,
   "metadata": {},
   "outputs": [],
   "source": []
  }
 ],
 "metadata": {
  "kernelspec": {
   "display_name": "Python 3",
   "language": "python",
   "name": "python3"
  },
  "language_info": {
   "codemirror_mode": {
    "name": "ipython",
    "version": 3
   },
   "file_extension": ".py",
   "mimetype": "text/x-python",
   "name": "python",
   "nbconvert_exporter": "python",
   "pygments_lexer": "ipython3",
   "version": "3.6.4"
  }
 },
 "nbformat": 4,
 "nbformat_minor": 2
}

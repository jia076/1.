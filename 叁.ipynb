{
 "cells": [
  {
   "cell_type": "code",
   "execution_count": 2,
   "metadata": {},
   "outputs": [
    {
     "name": "stdout",
     "output_type": "stream",
     "text": [
      "4 8 125\n"
     ]
    },
    {
     "data": {
      "text/plain": [
       "20"
      ]
     },
     "execution_count": 2,
     "metadata": {},
     "output_type": "execute_result"
    }
   ],
   "source": [
    "#一、基礎運算\n",
    "#1.\n",
    "x,y,z = 3,4,5\n",
    "x += 1\n",
    "y *= 2\n",
    "z **= 3\n",
    "print(x,y,z)\n",
    "#2.\n",
    "a = 10\n",
    "b = 55\n",
    "c = 2\n",
    "a+b%a*c\n",
    "3.\n",
    "a+b%a*c"
   ]
  },
  {
   "cell_type": "code",
   "execution_count": 3,
   "metadata": {},
   "outputs": [
    {
     "name": "stdout",
     "output_type": "stream",
     "text": [
      "6.0\n",
      "126.8857754044952\n"
     ]
    }
   ],
   "source": [
    "#二、求三角形面積 海倫公式\n",
    "import math\n",
    "a,b,c = 3,4,5\n",
    "s = (a+b+c)/2\n",
    "area = math.sqrt(s*(s-a)*(s-b)*(s-c))\n",
    "print(area)\n",
    "a,b,c = 12,33,25\n",
    "s = (a+b+c)/2\n",
    "area = math.sqrt(s*(s-a)*(s-b)*(s-c))\n",
    "print(area)"
   ]
  },
  {
   "cell_type": "code",
   "execution_count": 4,
   "metadata": {},
   "outputs": [
    {
     "name": "stdout",
     "output_type": "stream",
     "text": [
      "請輸入攝氏溫度：10\n",
      "華氏溫度是： 18.0\n"
     ]
    }
   ],
   "source": [
    "#三、溫度\n",
    "celsius = input(\"請輸入攝氏溫度：\")\n",
    "fahrenheit = 9/5 * int(celsius)\n",
    "print(\"華氏溫度是：\",fahrenheit)"
   ]
  },
  {
   "cell_type": "code",
   "execution_count": 5,
   "metadata": {},
   "outputs": [
    {
     "name": "stdout",
     "output_type": "stream",
     "text": [
      "樣本 [5, 6, 7, 9, 1, 2, 3, 5, 4]\n",
      "平均值： 4.666666666666667\n",
      "最大值： 9\n",
      "最小值： 1\n",
      "變異數： 6.25\n",
      "標準差： 2.5\n"
     ]
    }
   ],
   "source": [
    "#四、樣本運算\n",
    "import  statistics as st\n",
    "sample=[5,6,7,9,1,2,3,5,4]\n",
    "print(\"樣本\",sample)\n",
    "print(\"平均值：\", st.mean(sample))\n",
    "print(\"最大值：\", max(sample))\n",
    "print(\"最小值：\", min(sample))\n",
    "print(\"變異數：\", round(st.variance(sample),2))\n",
    "print(\"標準差：\", round(st.stdev(sample),2))"
   ]
  },
  {
   "cell_type": "code",
   "execution_count": 6,
   "metadata": {},
   "outputs": [
    {
     "name": "stdout",
     "output_type": "stream",
     "text": [
      "b比較大\n"
     ]
    }
   ],
   "source": [
    "#五、比大小\n",
    "a = 3\n",
    "b = 4\n",
    "if a<=b:\n",
    "    print(\"b比較大\")\n",
    "else:\n",
    "    print(\"a比較大\")"
   ]
  },
  {
   "cell_type": "code",
   "execution_count": 7,
   "metadata": {},
   "outputs": [
    {
     "name": "stdout",
     "output_type": "stream",
     "text": [
      "總數為： 55\n",
      "1+2+3+...+10的總和為: 55\n"
     ]
    }
   ],
   "source": [
    "#六、算總數\n",
    "#1.\n",
    "sum = 0\n",
    "for count in range(1,11,1):  # 1-10\n",
    "#for count in range(11):     # 0-10\n",
    "    sum += count\n",
    "\n",
    "print(\"總數為：\",sum)\n",
    "#2.\n",
    "#while迴圈\n",
    "sum = 0\n",
    "count = 0\n",
    "while count <= 10:\n",
    "    sum += count\n",
    "    count += 1\n",
    "print(\"1+2+3+...+10的總和為:\",sum)"
   ]
  },
  {
   "cell_type": "code",
   "execution_count": 8,
   "metadata": {},
   "outputs": [
    {
     "name": "stdout",
     "output_type": "stream",
     "text": [
      "雞有 23 隻,兔子有 12 隻\n"
     ]
    }
   ],
   "source": [
    "#七、雞兔同籠。若共有35個頭，94隻腳，問共有幾隻雞?幾隻兔?\n",
    "for chicken in range(0,36):\n",
    "    rabbit = 35-chicken\n",
    "    if (2*chicken + 4*rabbit) == 94:\n",
    "        print(\"雞有\",chicken,\"隻,兔子有\",rabbit,\"隻\")\n",
    "        break\n",
    "else:\n",
    "    print(\"無解\")"
   ]
  },
  {
   "cell_type": "code",
   "execution_count": 9,
   "metadata": {},
   "outputs": [
    {
     "name": "stdout",
     "output_type": "stream",
     "text": [
      "37 年後本金會變成 20065\n"
     ]
    }
   ],
   "source": [
    "#八、本金10000元，年利率1.9%，請問多久銀行存款會加倍\n",
    "year = 0\n",
    "x = 10000\n",
    "while x <= 20000:\n",
    "    x = x*1.019\n",
    "    year += 1\n",
    "print(year,\"年後本金會變成\",int(x))\t"
   ]
  },
  {
   "cell_type": "code",
   "execution_count": 10,
   "metadata": {},
   "outputs": [
    {
     "name": "stdout",
     "output_type": "stream",
     "text": [
      "請輸入1~5的數字5\n",
      "猜錯了\n",
      "請輸入1~5的數字4\n",
      "猜錯了\n",
      "請輸入1~5的數字3\n",
      "猜對了\n"
     ]
    }
   ],
   "source": [
    "#九、猜數字\n",
    "import random\n",
    "number = random.randint(1,5)\n",
    "while True:\n",
    "    guess = int(input(\"請輸入1~5的數字\"))\n",
    "    if guess == number:\n",
    "        print(\"猜對了\")\n",
    "        break\n",
    "    else:\n",
    "        print(\"猜錯了\")"
   ]
  }
 ],
 "metadata": {
  "kernelspec": {
   "display_name": "Python 3",
   "language": "python",
   "name": "python3"
  },
  "language_info": {
   "codemirror_mode": {
    "name": "ipython",
    "version": 3
   },
   "file_extension": ".py",
   "mimetype": "text/x-python",
   "name": "python",
   "nbconvert_exporter": "python",
   "pygments_lexer": "ipython3",
   "version": "3.6.4"
  }
 },
 "nbformat": 4,
 "nbformat_minor": 2
}
